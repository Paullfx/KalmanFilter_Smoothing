{
 "cells": [
  {
   "cell_type": "code",
   "execution_count": null,
   "metadata": {},
   "outputs": [],
   "source": [
    "# Draft for KF:\n",
    " def Kalman_Filter() :\n",
    "  for n in range(measurements):\n",
    "     x = A*x+B*u[n]\n",
    "     P = A*P*A.T + Q\n",
    " \n",
    " # Measurement Update (Correction)\n",
    " # ===============================\n",
    " # Compute the Kalman Gain\n",
    "    S = H*P*H.T + R\n",
    "    K = (P*H.T) * np.linalg.pinv(S)\n",
    "# Update the estimate via z\n",
    "    Z = mx[n]\n",
    "    y = Z — (H*x) # Innovation or Residual\n",
    "    x = x + (K*y)\n",
    " \n",
    " # Update the error covariance\n",
    "    P = (I — (K*H))*"
   ]
  },
  {
   "cell_type": "code",
   "execution_count": null,
   "metadata": {},
   "outputs": [],
   "source": [
    "# noise generation\n",
    "import matplotlib as mpl\n",
    "import matplotlib.pyplot as plt\n",
    "import numpy as np\n",
    "\n",
    "len(x) == 1000\n",
    "x = np.linspace(-1, 1, len(x))\n",
    "\n",
    "\n",
    "noise1 = 3 * np.random.normal(0,1,len(x))\n",
    "noise2 = 0.5 * np.random.normal(0,5,len(x))\n",
    "\n",
    "plt.plot(x, 5*noise1, '.', color='yellow')\n",
    "plt.plot(x, noise2, '.', color='green')"
   ]
  }
 ],
 "metadata": {
  "kernelspec": {
   "display_name": "Python 3",
   "language": "python",
   "name": "python3"
  },
  "language_info": {
   "name": "python",
   "version": "3.10.8"
  },
  "orig_nbformat": 4,
  "vscode": {
   "interpreter": {
    "hash": "cd61a8da8da3bb00d54da8e697cab993c617e8f8dc05ee0a97a0fe07683576ed"
   }
  }
 },
 "nbformat": 4,
 "nbformat_minor": 2
}
