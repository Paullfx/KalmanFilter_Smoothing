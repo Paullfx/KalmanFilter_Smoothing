{
 "cells": [
  {
   "cell_type": "code",
   "execution_count": null,
   "metadata": {},
   "outputs": [],
   "source": [
    "#Step 3: !!! Kalman Filter integrated into loop needed\n",
    "#page 15 Textbook\n",
    "#Correction\n",
    "\n",
    "import matplotlib as mpl\n",
    "import matplotlib.pyplot as plt\n",
    "import numpy as np\n",
    "\n",
    "#initialization: \n",
    "x_0_corrected =StateMatrix[:,0]\n",
    "\n",
    "A = Ad\n",
    "\n",
    "y_k_predicted = C * x_k_predicted + D * u_k #1\n",
    "\n",
    "delta_y_k = y_k - y_k_predicted #2\n",
    "\n",
    "K_k = P_k_predicted * C.T * Term_inv #3\n",
    "Term = C * P_k_predicted * C.T + R_k\n",
    "Term_inv = np.linalg.inv(Term)\n",
    "\n",
    "x_k_corrected = x_k_predicted + K_k * delta_y_k#4\n",
    "\n",
    "P_k_corrected = (I - K_k * C) * P_k_predicted #5\n",
    "I = np.identity () # consider dimension\n",
    "\n",
    "#Prediction\n",
    "\n",
    "x_(k+1)_predicted = Ad * x_k_corrected + Bd * u_k #6\n",
    "\n",
    "P_(k+1)_predicted = Ad * P_k_corrected * Ad.T + Gd * Q_k *Gd.T #7\n",
    "\n",
    "Q_k = np.matrix([[variance_Zs,0,0],\n",
    "                  [0,variance_Zv,0],\n",
    "                  [0,0,variance_Za]]) #covariance matrix of system errors\n",
    "\n",
    "R_k = np.matrix([[variance_Ms,0,0],\n",
    "                  [0,variance_Mv,0],\n",
    "                  [0,0,variance_Ma]]) #covariance matrix of measurement errors\n",
    "\n",
    "\n"
   ]
  }
 ],
 "metadata": {
  "kernelspec": {
   "display_name": "new_venv",
   "language": "python",
   "name": "python3"
  },
  "language_info": {
   "name": "python",
   "version": "3.10.8"
  },
  "orig_nbformat": 4
 },
 "nbformat": 4,
 "nbformat_minor": 2
}
