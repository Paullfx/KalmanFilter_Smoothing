{
 "cells": [
  {
   "cell_type": "code",
   "execution_count": 8,
   "metadata": {},
   "outputs": [
    {
     "name": "stdout",
     "output_type": "stream",
     "text": [
      "[[1.    0.1   0.005]\n",
      " [0.    1.    0.1  ]\n",
      " [0.    0.    1.   ]]\n",
      "[[1.    2.1   3.005]\n",
      " [0.    1.    0.1  ]\n",
      " [0.    0.    1.   ]]\n",
      "[[1]\n",
      " [0]\n",
      " [0]]\n"
     ]
    }
   ],
   "source": [
    "import matplotlib as mpl\n",
    "import matplotlib.pyplot as plt\n",
    "import numpy as np\n",
    "\n",
    "Ts = 100/1000\n",
    "\n",
    "Ad = np.matrix([[1,Ts,0.5*(Ts*Ts)],\n",
    "                  [0,1,Ts],\n",
    "                  [0,0,1]])\n",
    "print (Ad)\n",
    "# # Bd = np.array ([0],\n",
    "#                [0],\n",
    "#                [1]) # control input only in acceleration\n",
    "\n",
    "G = np.matrix ([[1,2,3],[0,1,0],[0,0,1]])\n",
    "\n",
    "Gd = Ad * G\n",
    "print (Gd)\n",
    "\n",
    "print(G[:,0])\n"
   ]
  },
  {
   "cell_type": "code",
   "execution_count": 2,
   "metadata": {},
   "outputs": [
    {
     "name": "stdout",
     "output_type": "stream",
     "text": [
      "1000\n",
      "1\n"
     ]
    }
   ],
   "source": [
    "import matplotlib as mpl\n",
    "import matplotlib.pyplot as plt\n",
    "import numpy as np\n",
    "\n",
    "l=1000\n",
    "t = np.linspace(0, 100, l)\n",
    "print (len(t))\n",
    "\n",
    "a = 10 % 3 \n",
    "print(a)"
   ]
  }
 ],
 "metadata": {
  "kernelspec": {
   "display_name": "new_venv",
   "language": "python",
   "name": "python3"
  },
  "language_info": {
   "codemirror_mode": {
    "name": "ipython",
    "version": 3
   },
   "file_extension": ".py",
   "mimetype": "text/x-python",
   "name": "python",
   "nbconvert_exporter": "python",
   "pygments_lexer": "ipython3",
   "version": "3.10.8"
  },
  "orig_nbformat": 4
 },
 "nbformat": 4,
 "nbformat_minor": 2
}
