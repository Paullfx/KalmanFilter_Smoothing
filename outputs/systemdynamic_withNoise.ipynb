{
 "cells": [
  {
   "cell_type": "code",
   "execution_count": null,
   "metadata": {},
   "outputs": [
    {
     "ename": "",
     "evalue": "",
     "output_type": "error",
     "traceback": [
      "\u001b[1;31mRunning cells with 'c:\\Program Files\\Python37\\python.exe' requires the ipykernel package.\n",
      "\u001b[1;31mRun the following command to install 'ipykernel' into the Python environment. \n",
      "\u001b[1;31mCommand: '\"c:/Program Files/Python37/python.exe\" -m pip install ipykernel -U --user --force-reinstall'"
     ]
    }
   ],
   "source": [
    "import matplotlib as mpl\n",
    "import matplotlib.pyplot as plt\n",
    "import numpy as np\n",
    "\n",
    "l = 1000 # 1000 time steps\n",
    "t = np.linspace(0, 100, l) # a time interval of 100 seconds\n",
    "a = np.zeros(1000) # initialize accelaration\n",
    "v = np.zeros(1000) # initialize velocity\n",
    "s = np.zeros(1000) # initialize position\n",
    "\n",
    "\n",
    "\n",
    "\n",
    "\n",
    "# From JC and Google, I decide to consider acceleration and velocity as system error\n",
    "# position and velocity as measurement error \n",
    "\n",
    "\n",
    "\n",
    "\n",
    "\n",
    "#system dynamics: \n",
    "# x(t+1) = Ad * x(t) + Bd * u(t) + G * Z(t) # Z(t) stands for system error\n",
    "# y(t) = C * x(t) + D * u(t) + M(t) # M(t) stands for measurement error \n",
    "variance_Zv = 10/9 # /sigma_Zv^2 =11.1 # system error\n",
    "variance_Ms = 20 # /sigma_Ms^2 = 20 # measurement error\n",
    "variance_Ma = 0.2 # /sigma_Ma^2 =0.2 # measurement error\n",
    "noise_v = np.random.normal(0,variance_Zv,1000)  # system error\n",
    "noise_s = np.random.normal(0,variance_Ms,1000)\n",
    "noise_a = np.random.normal(0,variance_Ma,1000)\n",
    "system_noise = (0, noise_v, 0)\n",
    "measurement_noise = (noise_s, noise_a)\n",
    " # x = (s, v , a) + system_noise\n",
    "  #y = (s, a) + measurement_noise# assume that we can only measure the position and acceleration\n",
    "\n",
    "\n",
    "# system without system noise\n",
    "for i in range(0, len(t)):\n",
    "    if t[i] >= 10 and t[i] <= 50:\n",
    "        a[i]= 5\n",
    "    else:\n",
    "        a[i]=0\n",
    "    v[i] = v[i-1] + a[i] * (10/l) \n",
    "    s[i] = s[i-1] + v[i] * (10/l)\n",
    "\n",
    "fig, axs = plt.subplots(1,3,figsize=(20,4))\n",
    "axs[0].set_title(\"Without system noise\")\n",
    "line1, = axs[0].plot(t, a, '.', color='blue', label='acceleration')\n",
    "line2, = axs[1].plot(t, v, '.', color='green', label='velocity')\n",
    "line3, = axs[2].plot(t, s, '.', color='purple', label='position')\n",
    "axs[0].legend(handles=[line1,line2,line3,], loc='lower left')\n",
    "\n",
    "\n",
    "# system with noise\n",
    "for i in range(0, len(t)):\n",
    "    if t[i] >= 10 and t[i] <= 50:\n",
    "        a[i]= 5\n",
    "    else:\n",
    "        a[i]=0\n",
    "    v[i] = v[i-1] + a[i] * (10/l) + noise_v[i]\n",
    "    s[i] = s[i-1] + v[i] * (10/l)\n",
    "\n",
    "fig, axs = plt.subplots(1,3,figsize=(20,4))\n",
    "axs[0].set_title(\"With system noise\")\n",
    "line1, = axs[0].plot(t, a, '.', color='blue', label='acceleration')\n",
    "line2, = axs[1].plot(t, v, '.', color='green', label='velocity')\n",
    "line3, = axs[2].plot(t, s, '.', color='purple', label='position')\n",
    "axs[0].legend(handles=[line1,line2,line3,], loc='lower left')\n",
    "\n",
    "fig, axs = plt.subplots(1,3,figsize=(20,4))\n",
    "axs[0].set_title(\"With system noise and measurement noise\")\n",
    "#axs.set_xlabel('time')\n",
    "#plt.ylabel(\"Calorie Burnage\")\n",
    "line1, = axs[0].plot(t, a + noise_a , '.', color='blue', label='acceleration')\n",
    "line2, = axs[1].plot(t, v , '.', color='green', label='velocity')\n",
    "line3, = axs[2].plot(t, s + noise_s, '.', color='purple', label='position')\n",
    "axs[0].legend(handles=[line1,line2,line3,], loc='lower left')"
   ]
  }
 ],
 "metadata": {
  "kernelspec": {
   "display_name": "Python 3",
   "language": "python",
   "name": "python3"
  },
  "language_info": {
   "codemirror_mode": {
    "name": "ipython",
    "version": 3
   },
   "file_extension": ".py",
   "mimetype": "text/x-python",
   "name": "python",
   "nbconvert_exporter": "python",
   "pygments_lexer": "ipython3",
   "version": "3.7.5"
  },
  "orig_nbformat": 4,
  "vscode": {
   "interpreter": {
    "hash": "cd61a8da8da3bb00d54da8e697cab993c617e8f8dc05ee0a97a0fe07683576ed"
   }
  }
 },
 "nbformat": 4,
 "nbformat_minor": 2
}
